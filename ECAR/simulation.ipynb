{
 "cells": [
  {
   "cell_type": "markdown",
   "metadata": {},
   "source": [
    "# ECAR Simulation"
   ]
  },
  {
   "cell_type": "markdown",
   "metadata": {},
   "source": [
    "### Run the cell below to get all the imports settled."
   ]
  },
  {
   "cell_type": "code",
   "execution_count": null,
   "metadata": {},
   "outputs": [],
   "source": [
    "# package imports\n",
    "import numpy as np\n",
    "import assimulo as a\n",
    "import matplotlib.pyplot as plt\n",
    "\n",
    "#file imports\n",
    "import constants as c\n",
    "import dae\n",
    "import system as s"
   ]
  },
  {
   "cell_type": "markdown",
   "metadata": {},
   "source": [
    "### Run the cell below to model the system using the initial conditions you write in.\n",
    "#### (The preset values are from a previous experiment.)"
   ]
  },
  {
   "cell_type": "code",
   "execution_count": null,
   "metadata": {},
   "outputs": [],
   "source": [
    "dose_time = 0\n",
    "mix_time = 50\n",
    "dose_rate = 7\n",
    "dose_load = 100\n",
    "initial_conc_vector = np.array([\n",
    "    1e-6 / c.mm_As, 149e-6 / c.mm_As, 0.22e-3 / c.mm_P, 12e-3 / c.mm_Si, 0, 0,\n",
    "    c.O2_saturation_20C, 149e-6 / c.mm_As, 6.6\n",
    "]) # required to make this a NumPy Array\n",
    "\n",
    "ecar_system = s.ECAR(dose_time, mix_time, dose_rate, dose_load,\n",
    "                     initial_conc_vector)\n",
    "time_list, conc_list, conc_td_list = ecar_system.model()"
   ]
  },
  {
   "cell_type": "markdown",
   "metadata": {},
   "source": [
    "### Run the cell below to plot the concentration fractions over time. You can tune the parameters of the plotter however you want."
   ]
  },
  {
   "cell_type": "code",
   "execution_count": null,
   "metadata": {},
   "outputs": [],
   "source": [
    "# matplotlib helper function \n",
    "# run this for any of the other scripts to work\n",
    "plotter = lambda ax, x, y, col: ax.plot(x, y, color=col, marker='o', markersize='1', linestyle='solid')\n"
   ]
  },
  {
   "cell_type": "code",
   "execution_count": null,
   "metadata": {},
   "outputs": [],
   "source": [
    "# plotting fractions of iniital concentrations vs time (of both mixing and dosing)\n",
    "fig, ax = plt.subplots(1, 1)\n",
    "\n",
    "as3_dissolved_frac_list = np.array([conc[0] / initial_conc_vector[0] for conc in conc_list])\n",
    "as3_tot_frac_list = as3_dissolved_frac_list + np.array([c.adsorbed_species_vector(conc)[0] / initial_conc_vector[0] for conc in conc_list])\n",
    "p_frac_list = np.array([conc[2] / initial_conc_vector[2] for conc in conc_list])\n",
    "si_frac_list = np.array([conc[3] / initial_conc_vector[3] for conc in conc_list])\n",
    "as5_tot_frac_list = np.array([conc[7] / initial_conc_vector[7] for conc in conc_list])\n",
    "\n",
    "plotter(ax, time_list, as3_dissolved_frac_list, 'b')\n",
    "plotter(ax, time_list, as3_tot_frac_list, 'r')\n",
    "plotter(ax, time_list, as5_tot_frac_list, 'g')\n",
    "plotter(ax, time_list, p_frac_list, 'c')\n",
    "plotter(ax, time_list, si_frac_list, 'm')\n",
    "\n",
    "ax.set_title('Fractions of initial concentrations v.s. time (s)')\n",
    "ax.set_ylabel('Fraction of initial concentration')\n",
    "ax.set_xlabel('Time (s)')\n",
    "\n",
    "ax.set_xlim(0,5)\n",
    "\n",
    "plt.show()\n",
    "\n",
    "# plotting fractions of initial concentrations vs Fe dosage (until max dosage load)\n",
    "if not c.approx(ecar_system.dose_time, 0):\n",
    "    fig, ax1 = plt.subplots(1, 1)\n",
    "    time_final = max([i for i in range(time_list.size) if time_list[i] <= ecar_system.dose_time_sec])\n",
    "    time_dose_list_adj = time_list[:time_final] * dose_rate\n",
    "    conc_dose_list = conc_list[:time_final]\n",
    "    conc_td_dose_list = conc_td_list[:time_final]\n",
    "    \n",
    "    as3_dissolved_frac_dose_list = np.array([conc[0] / initial_conc_vector[0] for conc in conc_dose_list])\n",
    "    as3_tot_frac_dose_list = as3_dissolved_frac_list[:time_final] + np.array([c.adsorbed_species_vector(conc)[0] / initial_conc_vector[0] for conc in conc_dose_list])\n",
    "    p_frac_dose_list = np.array([conc[2] / initial_conc_vector[2] for conc in conc_dose_list])\n",
    "    si_frac_dose_list = np.array([conc[3] / initial_conc_vector[3] for conc in conc_dose_list])\n",
    "    as5_tot_frac_dose_list = np.array([conc[7] / initial_conc_vector[7] for conc in conc_dose_list])\n",
    "    \n",
    "    plotter(ax1, time_dose_list_adj, as3_dissolved_frac_dose_list, 'b')\n",
    "    plotter(ax1, time_dose_list_adj, as3_tot_frac_dose_list, 'r')\n",
    "    plotter(ax1, time_dose_list_adj, as5_tot_frac_dose_list, 'g')\n",
    "    plotter(ax1, time_dose_list_adj, p_frac_dose_list, 'c')\n",
    "    plotter(ax1, time_dose_list_adj, si_frac_dose_list, 'm')\n",
    "\n",
    "    \n",
    "    ax1.set_title(\n",
    "        'Fractions of initial concentrations v.s. dose load (mg/L)')\n",
    "    ax1.set_ylabel('Fraction of initial concentrations')\n",
    "    ax1.set_xlabel('Dose load (mg/L)')\n",
    "    \n",
    "    ax1.set_xlim(0, 35)\n",
    "    \n",
    "    plt.show()\n",
    "    \n",
    "    fig, ax2 = plt.subplots(1,1)\n",
    "    \n",
    "    plotter(ax2, time_dose_list_adj, as3_dissolved_frac_dose_list, 'b')\n",
    "    \n",
    "    ax2.set_title('Fraction of initial arsenic v.s. dose load (mg/L)')\n",
    "    ax2.set_ylabel('Fraction of initial arsenic')\n",
    "    ax2.set_xlabel('Dose load (mg/L)')\n",
    "    \n",
    "    ax2.set_xlim(0, 35)\n",
    "   \n",
    "    plt.show() \n"
   ]
  },
  {
   "cell_type": "code",
   "execution_count": null,
   "metadata": {},
   "outputs": [],
   "source": []
  }
 ],
 "metadata": {
  "kernelspec": {
   "display_name": "Python 3",
   "language": "python",
   "name": "python3"
  },
  "language_info": {
   "codemirror_mode": {
    "name": "ipython",
    "version": 3
   },
   "file_extension": ".py",
   "mimetype": "text/x-python",
   "name": "python",
   "nbconvert_exporter": "python",
   "pygments_lexer": "ipython3",
   "version": "3.6.6"
  }
 },
 "nbformat": 4,
 "nbformat_minor": 2
}
